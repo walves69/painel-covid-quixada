{
 "cells": [
  {
   "cell_type": "markdown",
   "id": "c24cb075",
   "metadata": {
    "extensions": {
     "jupyter_dashboards": {
      "version": 1,
      "views": {
       "grid_default": {},
       "report_default": {
        "hidden": false
       }
      }
     }
    }
   },
   "source": [
    "# Painel COVID-19 Ceará"
   ]
  },
  {
   "cell_type": "code",
   "execution_count": 1,
   "id": "f0246a72",
   "metadata": {
    "extensions": {
     "jupyter_dashboards": {
      "version": 1,
      "views": {
       "grid_default": {},
       "report_default": {
        "hidden": true
       }
      }
     }
    }
   },
   "outputs": [],
   "source": [
    "# Imports\n",
    "import pandas as pd\n",
    "import numpy as np\n",
    "import matplotlib.pyplot as plt\n",
    "import dateutil.parser"
   ]
  },
  {
   "cell_type": "code",
   "execution_count": 2,
   "id": "140a1592",
   "metadata": {
    "extensions": {
     "jupyter_dashboards": {
      "version": 1,
      "views": {
       "grid_default": {},
       "report_default": {
        "hidden": true
       }
      }
     }
    }
   },
   "outputs": [],
   "source": [
    "# Carregando os dados do Ceará no novo dataframe\n",
    "casos_ce = pd.read_csv('casos_ce.csv')"
   ]
  },
  {
   "cell_type": "code",
   "execution_count": 3,
   "id": "f0a7ad3b",
   "metadata": {
    "extensions": {
     "jupyter_dashboards": {
      "version": 1,
      "views": {
       "grid_default": {},
       "report_default": {
        "hidden": true
       }
      }
     }
    }
   },
   "outputs": [],
   "source": [
    "# Fazendo cast da coluna date para data\n",
    "casos_ce['date'] = pd.to_datetime(casos_ce['date'])"
   ]
  },
  {
   "cell_type": "code",
   "execution_count": 4,
   "id": "edd179d9",
   "metadata": {
    "extensions": {
     "jupyter_dashboards": {
      "version": 1,
      "views": {
       "grid_default": {},
       "report_default": {
        "hidden": true
       }
      }
     }
    }
   },
   "outputs": [],
   "source": [
    "# Olhando o dataframe\n",
    "# casos_ce.info()"
   ]
  },
  {
   "cell_type": "code",
   "execution_count": 5,
   "id": "c29e9d13",
   "metadata": {
    "extensions": {
     "jupyter_dashboards": {
      "version": 1,
      "views": {
       "grid_default": {},
       "report_default": {
        "hidden": true
       }
      }
     }
    }
   },
   "outputs": [],
   "source": [
    "# Olhando o conteúdo do dataframe\n",
    "# casos_ce.head()"
   ]
  },
  {
   "cell_type": "code",
   "execution_count": 6,
   "id": "db4403a7",
   "metadata": {
    "extensions": {
     "jupyter_dashboards": {
      "version": 1,
      "views": {
       "grid_default": {},
       "report_default": {
        "hidden": true
       }
      }
     }
    }
   },
   "outputs": [],
   "source": [
    "# Olhando as cidades não nulas\n",
    "# casos_ce[df_ce.city.notna()].head()"
   ]
  },
  {
   "cell_type": "code",
   "execution_count": 7,
   "id": "97f4d159",
   "metadata": {
    "extensions": {
     "jupyter_dashboards": {
      "version": 1,
      "views": {
       "grid_default": {},
       "report_default": {
        "hidden": true
       }
      }
     }
    }
   },
   "outputs": [],
   "source": [
    "# Quantidade de cidades únicas\n",
    "# casos_ce.city.nunique()"
   ]
  },
  {
   "cell_type": "code",
   "execution_count": 8,
   "id": "33317482",
   "metadata": {
    "extensions": {
     "jupyter_dashboards": {
      "version": 1,
      "views": {
       "grid_default": {},
       "report_default": {
        "hidden": true
       }
      }
     }
    },
    "scrolled": true
   },
   "outputs": [],
   "source": [
    "# Listando os municípios presentes no arquivo.\n",
    "# casos_ce.city.unique()"
   ]
  },
  {
   "cell_type": "code",
   "execution_count": 9,
   "id": "a2c5c551",
   "metadata": {
    "extensions": {
     "jupyter_dashboards": {
      "version": 1,
      "views": {
       "grid_default": {},
       "report_default": {
        "hidden": true
       }
      }
     }
    }
   },
   "outputs": [],
   "source": [
    "# Olhando os dados para cidade de Quixadá\n",
    "# casos_ce[(casos_ce.city == 'Abaiara')].head()"
   ]
  },
  {
   "cell_type": "code",
   "execution_count": 10,
   "id": "564cd10f",
   "metadata": {
    "extensions": {
     "jupyter_dashboards": {
      "version": 1,
      "views": {
       "grid_default": {},
       "report_default": {
        "hidden": true
       }
      }
     }
    },
    "scrolled": true
   },
   "outputs": [],
   "source": [
    "# A condição order_for_place == 1 indica o registro mais atual\n",
    "# casos_ce[(casos_ce.city == 'Quixadá') & (casos_ce.order_for_place == 1)].head(10)"
   ]
  },
  {
   "cell_type": "code",
   "execution_count": 11,
   "id": "11e1cfc1",
   "metadata": {
    "extensions": {
     "jupyter_dashboards": {
      "version": 1,
      "views": {
       "grid_default": {},
       "report_default": {
        "hidden": true
       }
      }
     }
    }
   },
   "outputs": [],
   "source": [
    "# Retirando as colunas que não serão necessárias.\n",
    "casos_ce.drop(columns=['state', \n",
    "                       'place_type',\n",
    "                       'confirmed',\n",
    "                       'order_for_place',\n",
    "                       'is_last',\n",
    "                       'estimated_population_2019',\n",
    "                       'estimated_population',\n",
    "                       'city_ibge_code',\n",
    "                       'confirmed_per_100k_inhabitants',\n",
    "                       'death_rate'], inplace=True)"
   ]
  },
  {
   "cell_type": "code",
   "execution_count": 12,
   "id": "2ec03020",
   "metadata": {
    "extensions": {
     "jupyter_dashboards": {
      "version": 1,
      "views": {
       "grid_default": {},
       "report_default": {
        "hidden": true
       }
      }
     }
    }
   },
   "outputs": [],
   "source": [
    "# Retirando as linhas que tenham city = nan\n",
    "casos_ce.dropna(subset = [\"city\"], inplace=True)"
   ]
  },
  {
   "cell_type": "code",
   "execution_count": 13,
   "id": "782cf32a",
   "metadata": {
    "extensions": {
     "jupyter_dashboards": {
      "version": 1,
      "views": {
       "grid_default": {},
       "report_default": {
        "hidden": true
       }
      }
     }
    }
   },
   "outputs": [],
   "source": [
    "#casos_ce.head()"
   ]
  },
  {
   "cell_type": "code",
   "execution_count": 14,
   "id": "86968799",
   "metadata": {
    "extensions": {
     "jupyter_dashboards": {
      "version": 1,
      "views": {
       "grid_default": {},
       "report_default": {
        "hidden": true
       }
      }
     }
    }
   },
   "outputs": [],
   "source": [
    "casos_ce.set_index('date', inplace=True)"
   ]
  },
  {
   "cell_type": "code",
   "execution_count": 15,
   "id": "d4f0d3cb",
   "metadata": {
    "extensions": {
     "jupyter_dashboards": {
      "version": 1,
      "views": {
       "grid_default": {},
       "report_default": {
        "hidden": false
       }
      }
     }
    }
   },
   "outputs": [],
   "source": [
    "#casos_ce.sort_index()"
   ]
  },
  {
   "cell_type": "code",
   "execution_count": 16,
   "id": "98fba50a",
   "metadata": {
    "extensions": {
     "jupyter_dashboards": {
      "version": 1,
      "views": {
       "grid_default": {},
       "report_default": {
        "hidden": true
       }
      }
     }
    }
   },
   "outputs": [],
   "source": [
    "# Dashboard"
   ]
  },
  {
   "cell_type": "code",
   "execution_count": 17,
   "id": "e386d97e",
   "metadata": {
    "extensions": {
     "jupyter_dashboards": {
      "version": 1,
      "views": {
       "grid_default": {},
       "report_default": {
        "hidden": true
       }
      }
     }
    }
   },
   "outputs": [],
   "source": [
    "# Criando a lista de cidades que irão pro combo\n",
    "cidades_lista = casos_ce['city'].unique().tolist()\n",
    "# cidades_lista"
   ]
  },
  {
   "cell_type": "code",
   "execution_count": 18,
   "id": "fd4348f5",
   "metadata": {
    "extensions": {
     "jupyter_dashboards": {
      "version": 1,
      "views": {
       "grid_default": {},
       "report_default": {
        "hidden": true
       }
      }
     }
    }
   },
   "outputs": [],
   "source": [
    "# Importa uma série de widgets, select, dropdown etc.\n",
    "import ipywidgets as widgets\n",
    "from datetime import datetime"
   ]
  },
  {
   "cell_type": "code",
   "execution_count": 19,
   "id": "6adc7e75",
   "metadata": {
    "extensions": {
     "jupyter_dashboards": {
      "version": 1,
      "views": {
       "grid_default": {},
       "report_default": {
        "hidden": true
       }
      }
     }
    }
   },
   "outputs": [],
   "source": [
    "# Widget com o nome das cidades.\n",
    "# A cidade escolhida será guardada na variável cidade.\n",
    "cidade = widgets.Dropdown(\n",
    "    options=list(cidades_lista),\n",
    "    value='Quixadá', #indicates default starting value\n",
    "    description='Cidade:', #this is the label for the dropdown\n",
    ")\n",
    "# dados_casos[dados_casos.city == 'Quixadá']"
   ]
  },
  {
   "cell_type": "code",
   "execution_count": 20,
   "id": "2677aa7c",
   "metadata": {},
   "outputs": [],
   "source": [
    "def update_obitos_dia(cidade):\n",
    "    #cidade = \"Quixadá\"\n",
    "    dfqx = casos_ce[(casos_ce.city == cidade)].copy()\n",
    "    dfqx_2 = dfqx['deaths'].copy().shift() - dfqx['deaths'].copy()\n",
    "    dfqx['obitos_dia'] = dfqx_2\n",
    "\n",
    "    dfqx.loc[dfqx['obitos_dia'] < 0, 'obitos_dia'] = 0\n",
    "\n",
    "    plot2 = dfqx.obitos_dia.plot(figsize=(15,5), label='Óbitos por dia')\n",
    "    plot2.set_title('Óbitos diários por COVID-19 em '+cidade+' ao longo da pandemia. | '+dfqx.index.max().strftime('%Y-%m-%d'))\n",
    "\n",
    "    obitos_max = dfqx.obitos_dia.max()\n",
    "    obitos_media = dfqx[dfqx.obitos_dia > 0].obitos_dia.mean()\n",
    "\n",
    "    plot2.axhline(y=obitos_max, xmin=0, xmax=1, color='r', linestyle=':', lw=2, label=\"Max óbitos - {num:.2f}.\".format(num = obitos_max))\n",
    "    plot2.axhline(y=obitos_media, xmin=0, xmax=1, color='g', linestyle=':', lw=2, label=\"Média óbitos - {num:.2f}.\".format(num = obitos_media))\n",
    "\n",
    "    plot2.set_xlabel('')\n",
    "    plot2.legend()\n"
   ]
  },
  {
   "cell_type": "code",
   "execution_count": 21,
   "id": "5f5b2a0e",
   "metadata": {},
   "outputs": [
    {
     "data": {
      "application/vnd.jupyter.widget-view+json": {
       "model_id": "c8a4f597db994a428ddbbf0633abd3ff",
       "version_major": 2,
       "version_minor": 0
      },
      "text/plain": [
       "interactive(children=(Dropdown(description='Cidade:', index=149, options=('Abaiara', 'Acarape', 'Acaraú', 'Aco…"
      ]
     },
     "metadata": {},
     "output_type": "display_data"
    }
   ],
   "source": [
    "widgets.interactive(update_obitos_dia, cidade=cidade)"
   ]
  }
 ],
 "metadata": {
  "extensions": {
   "jupyter_dashboards": {
    "activeView": "report_default",
    "version": 1,
    "views": {
     "grid_default": {
      "name": "grid",
      "type": "grid"
     },
     "report_default": {
      "name": "report",
      "type": "report"
     }
    }
   }
  },
  "kernelspec": {
   "display_name": "Python 3",
   "language": "python",
   "name": "python3"
  },
  "language_info": {
   "codemirror_mode": {
    "name": "ipython",
    "version": 3
   },
   "file_extension": ".py",
   "mimetype": "text/x-python",
   "name": "python",
   "nbconvert_exporter": "python",
   "pygments_lexer": "ipython3",
   "version": "3.9.1"
  }
 },
 "nbformat": 4,
 "nbformat_minor": 5
}
