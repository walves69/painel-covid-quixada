{
 "cells": [
  {
   "cell_type": "code",
   "execution_count": 21,
   "id": "f0246a72",
   "metadata": {
    "extensions": {
     "jupyter_dashboards": {
      "version": 1,
      "views": {
       "grid_default": {
        "hidden": true
       },
       "report_default": {
        "hidden": true
       }
      }
     }
    }
   },
   "outputs": [],
   "source": [
    "# Imports\n",
    "import pandas as pd\n",
    "import numpy as np\n",
    "import matplotlib.pyplot as plt\n",
    "import dateutil.parser"
   ]
  },
  {
   "cell_type": "code",
   "execution_count": 22,
   "id": "140a1592",
   "metadata": {
    "extensions": {
     "jupyter_dashboards": {
      "version": 1,
      "views": {
       "grid_default": {
        "hidden": true
       },
       "report_default": {
        "hidden": true
       }
      }
     }
    }
   },
   "outputs": [],
   "source": [
    "# Carregando os dados do Ceará no novo dataframe\n",
    "casos_ce = pd.read_csv('casos_ce.csv')"
   ]
  },
  {
   "cell_type": "code",
   "execution_count": 23,
   "id": "f0a7ad3b",
   "metadata": {
    "extensions": {
     "jupyter_dashboards": {
      "version": 1,
      "views": {
       "grid_default": {
        "hidden": true
       },
       "report_default": {
        "hidden": true
       }
      }
     }
    }
   },
   "outputs": [],
   "source": [
    "# Fazendo cast da coluna date para data\n",
    "casos_ce['date'] = pd.to_datetime(casos_ce['date'])"
   ]
  },
  {
   "cell_type": "code",
   "execution_count": 24,
   "id": "11e1cfc1",
   "metadata": {
    "extensions": {
     "jupyter_dashboards": {
      "version": 1,
      "views": {
       "grid_default": {
        "hidden": true
       },
       "report_default": {
        "hidden": true
       }
      }
     }
    }
   },
   "outputs": [],
   "source": [
    "# Retirando as colunas que não serão necessárias.\n",
    "casos_ce.drop(columns=['state', \n",
    "                       'place_type',\n",
    "                       'order_for_place',\n",
    "                       'estimated_population_2019',\n",
    "                       'estimated_population',\n",
    "                       'city_ibge_code',\n",
    "                       'confirmed_per_100k_inhabitants',\n",
    "                       'death_rate'], inplace=True)"
   ]
  },
  {
   "cell_type": "code",
   "execution_count": 25,
   "id": "2ec03020",
   "metadata": {
    "extensions": {
     "jupyter_dashboards": {
      "version": 1,
      "views": {
       "grid_default": {
        "hidden": true
       },
       "report_default": {
        "hidden": true
       }
      }
     }
    }
   },
   "outputs": [],
   "source": [
    "# Retirando as linhas que tenham city = nan\n",
    "casos_ce.dropna(subset = [\"city\"], inplace=True)"
   ]
  },
  {
   "cell_type": "code",
   "execution_count": 26,
   "id": "86968799",
   "metadata": {
    "extensions": {
     "jupyter_dashboards": {
      "version": 1,
      "views": {
       "grid_default": {
        "hidden": true
       },
       "report_default": {
        "hidden": true
       }
      }
     }
    }
   },
   "outputs": [],
   "source": [
    "casos_ce.set_index('date', inplace=True)"
   ]
  },
  {
   "cell_type": "code",
   "execution_count": 27,
   "id": "d4f0d3cb",
   "metadata": {
    "extensions": {
     "jupyter_dashboards": {
      "version": 1,
      "views": {
       "grid_default": {
        "hidden": true
       },
       "report_default": {
        "hidden": false
       }
      }
     }
    }
   },
   "outputs": [],
   "source": [
    "# Casos de Quixadá\n",
    "cidade = 'Quixadá'\n",
    "dfqx = casos_ce[(casos_ce.city == cidade)].copy()"
   ]
  },
  {
   "cell_type": "code",
   "execution_count": 28,
   "id": "98fba50a",
   "metadata": {
    "extensions": {
     "jupyter_dashboards": {
      "version": 1,
      "views": {
       "grid_default": {
        "hidden": true
       },
       "report_default": {
        "hidden": true
       }
      }
     }
    }
   },
   "outputs": [],
   "source": [
    "dados_data = dfqx.index.max().strftime('%Y-%m-%d')\n",
    "casos_confirmados = dfqx[dfqx.is_last == True].confirmed.values[0]\n",
    "obitos_confirmados = dfqx[dfqx.is_last == True].deaths.values[0]"
   ]
  },
  {
   "cell_type": "code",
   "execution_count": 29,
   "id": "76ba545b",
   "metadata": {},
   "outputs": [],
   "source": [
    "# Trabalhando com a visão\n",
    "import ipywidgets as widgets\n",
    "file = open(\"bandeira_quixada.png\", \"rb\")\n",
    "image = file.read()\n",
    "image_sidebar = widgets.Image(\n",
    "    value=image,\n",
    "    format='png',\n",
    "    width=160,\n",
    "    height=90,\n",
    ")"
   ]
  },
  {
   "cell_type": "code",
   "execution_count": 30,
   "id": "a20fcb11",
   "metadata": {},
   "outputs": [],
   "source": [
    "header_right = widgets.HTML(\"<h1 style='margin-left: 150px'>Painel COVID-19 Quixadá</h1>\")\n",
    "header = widgets.HBox([image_sidebar, header_right])"
   ]
  },
  {
   "cell_type": "code",
   "execution_count": 31,
   "id": "51280b3e",
   "metadata": {},
   "outputs": [
    {
     "data": {
      "application/vnd.jupyter.widget-view+json": {
       "model_id": "165389476299426a95ad515aa44334c3",
       "version_major": 2,
       "version_minor": 0
      },
      "text/plain": [
       "AppLayout(children=(HBox(children=(Image(value=b'\\x89PNG\\r\\n\\x1a\\n\\x00\\x00\\x00\\rIHDR\\x00\\x00\\x01@\\x00\\x00\\x00\\…"
      ]
     },
     "metadata": {},
     "output_type": "display_data"
    }
   ],
   "source": [
    "AppLayout(header=header,\n",
    "          left_sidebar=None,\n",
    "          center=None,\n",
    "          right_sidebar=None,\n",
    "          footer=None)"
   ]
  },
  {
   "cell_type": "code",
   "execution_count": 32,
   "id": "f3b4e71d",
   "metadata": {},
   "outputs": [
    {
     "data": {
      "text/markdown": [
       "<strong>Data dos dados: 2021-05-09</strong>"
      ],
      "text/plain": [
       "<IPython.core.display.Markdown object>"
      ]
     },
     "execution_count": 32,
     "metadata": {},
     "output_type": "execute_result"
    }
   ],
   "source": [
    "from IPython.display import display, Markdown\n",
    "Markdown('<strong>Data dos dados: {}</strong>'.format(dados_data))"
   ]
  },
  {
   "cell_type": "code",
   "execution_count": 33,
   "id": "78fb835a",
   "metadata": {},
   "outputs": [
    {
     "data": {
      "text/markdown": [
       "<strong>Casos confirmados: 7257</strong>"
      ],
      "text/plain": [
       "<IPython.core.display.Markdown object>"
      ]
     },
     "execution_count": 33,
     "metadata": {},
     "output_type": "execute_result"
    }
   ],
   "source": [
    "Markdown('<strong>Casos confirmados: {}</strong>'.format(casos_confirmados))"
   ]
  },
  {
   "cell_type": "code",
   "execution_count": 34,
   "id": "5c2189b7",
   "metadata": {},
   "outputs": [
    {
     "data": {
      "text/markdown": [
       "<strong>Óbitos confirmados: 137</strong>"
      ],
      "text/plain": [
       "<IPython.core.display.Markdown object>"
      ]
     },
     "execution_count": 34,
     "metadata": {},
     "output_type": "execute_result"
    }
   ],
   "source": [
    "Markdown('<strong>Óbitos confirmados: {}</strong>'.format(obitos_confirmados))"
   ]
  },
  {
   "cell_type": "markdown",
   "id": "af46a4ef",
   "metadata": {},
   "source": [
    "### Óbitos ao longo da pandemia"
   ]
  },
  {
   "cell_type": "code",
   "execution_count": 35,
   "id": "e386d97e",
   "metadata": {
    "extensions": {
     "jupyter_dashboards": {
      "version": 1,
      "views": {
       "grid_default": {
        "col": 0,
        "height": 2,
        "row": 2,
        "width": 12
       },
       "report_default": {
        "hidden": true
       }
      }
     }
    }
   },
   "outputs": [
    {
     "data": {
      "image/png": "[encoded data removed]",
      "text/plain": [
       "<Figure size 1080x288 with 1 Axes>"
      ]
     },
     "metadata": {
      "needs_background": "light"
     },
     "output_type": "display_data"
    }
   ],
   "source": [
    "plot = dfqx.deaths.plot(figsize=(15,4), label='Óbitos')\n",
    "#plot.set_title('Óbitos por COVID-19 em '+cidade+' ao longo da pandemia: '+str(dfqx.deaths.max())+'. | '+dfqx.index.max().strftime('%Y-%m-%d'))\n",
    "plot.set_xlabel('')\n",
    "plot.legend();"
   ]
  },
  {
   "cell_type": "markdown",
   "id": "42ad315f",
   "metadata": {
    "extensions": {
     "jupyter_dashboards": {
      "version": 1,
      "views": {
       "grid_default": {
        "hidden": true
       },
       "report_default": {
        "hidden": true
       }
      }
     }
    }
   },
   "source": [
    "### Óbitos por dia ao longo da pandemia"
   ]
  },
  {
   "cell_type": "code",
   "execution_count": 36,
   "id": "52e4b793",
   "metadata": {
    "scrolled": true
   },
   "outputs": [
    {
     "data": {
      "image/png": "[encoded data removed]",
      "text/plain": [
       "<Figure size 1080x360 with 1 Axes>"
      ]
     },
     "metadata": {
      "needs_background": "light"
     },
     "output_type": "display_data"
    }
   ],
   "source": [
    "#dfqx = casos_ce[(casos_ce.city == cidade)].copy()\n",
    "dfqx_2 = dfqx['deaths'].copy().shift() - dfqx['deaths'].copy()\n",
    "dfqx['obitos_dia'] = dfqx_2\n",
    "\n",
    "dfqx.loc[dfqx['obitos_dia'] < 0, 'obitos_dia'] = 0\n",
    "\n",
    "plot2 = dfqx.obitos_dia.plot(figsize=(15,5), label='Óbitos por dia')\n",
    "#plot2.set_title('Óbitos diários por COVID-19 em '+cidade+' ao longo da pandemia. | '+dfqx.index.max().strftime('%Y-%m-%d'))\n",
    "\n",
    "obitos_max = dfqx.obitos_dia.max()\n",
    "obitos_media = dfqx[dfqx.obitos_dia > 0].obitos_dia.mean()\n",
    "\n",
    "plot2.axhline(y=obitos_max, xmin=0, xmax=1, color='r', linestyle=':', lw=2, label=\"Max óbitos - {num:.2f}.\".format(num = obitos_max))\n",
    "plot2.axhline(y=obitos_media, xmin=0, xmax=1, color='g', linestyle=':', lw=2, label=\"Média óbitos - {num:.2f}.\".format(num = obitos_media))\n",
    "\n",
    "plot2.set_xlabel('')\n",
    "plot2.legend();"
   ]
  },
  {
   "cell_type": "code",
   "execution_count": null,
   "id": "a2314964",
   "metadata": {},
   "outputs": [],
   "source": []
  }
 ],
 "metadata": {
  "extensions": {
   "jupyter_dashboards": {
    "activeView": "grid_default",
    "version": 1,
    "views": {
     "grid_default": {
      "cellMargin": 10,
      "defaultCellHeight": 20,
      "maxColumns": 12,
      "name": "grid",
      "type": "grid"
     },
     "report_default": {
      "name": "report",
      "type": "report"
     }
    }
   }
  },
  "kernelspec": {
   "display_name": "Python 3",
   "language": "python",
   "name": "python3"
  },
  "language_info": {
   "codemirror_mode": {
    "name": "ipython",
    "version": 3
   },
   "file_extension": ".py",
   "mimetype": "text/x-python",
   "name": "python",
   "nbconvert_exporter": "python",
   "pygments_lexer": "ipython3",
   "version": "3.9.1"
  }
 },
 "nbformat": 4,
 "nbformat_minor": 5
}
